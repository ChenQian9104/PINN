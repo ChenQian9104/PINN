{
 "cells": [
  {
   "cell_type": "code",
   "execution_count": 1,
   "id": "3720f693",
   "metadata": {},
   "outputs": [],
   "source": [
    "import torch\n",
    "import os\n",
    "import matplotlib.pyplot as plt\n",
    "os.environ['KMP_DUPLICATE_LIB_OK']='True'"
   ]
  },
  {
   "cell_type": "code",
   "execution_count": 2,
   "id": "0cf96afb",
   "metadata": {},
   "outputs": [
    {
     "data": {
      "text/plain": [
       "'\\nA scratch for PINN solving the following PDE \\nu_xx - u_yyyy = (2-x^2)*exp(-y)\\n\\n'"
      ]
     },
     "execution_count": 2,
     "metadata": {},
     "output_type": "execute_result"
    }
   ],
   "source": [
    "\"\"\"\n",
    "A scratch for PINN solving the following PDE \n",
    "u_xx - u_yyyy = (2-x^2)*exp(-y)\n",
    "\n",
    "\"\"\""
   ]
  },
  {
   "cell_type": "code",
   "execution_count": 3,
   "id": "99c4d835",
   "metadata": {},
   "outputs": [],
   "source": [
    "def interior(n=1000):\n",
    "    x = torch.rand(n,1)\n",
    "    y = torch.rand(n,1)\n",
    "    cond = (2 - x**2)*torch.exp(-y)\n",
    "    return x.requires_grad_(True), y.requires_grad_(True), cond"
   ]
  },
  {
   "cell_type": "code",
   "execution_count": 4,
   "id": "67299f1c",
   "metadata": {},
   "outputs": [],
   "source": [
    "def down_yy(n=100):\n",
    "    x = torch.rand(n,1)\n",
    "    y = torch.zeros_like(x)\n",
    "    cond = x**2\n",
    "    return x.requires_grad_(True), y.requires_grad_(True), cond"
   ]
  },
  {
   "cell_type": "code",
   "execution_count": 5,
   "id": "f4fd8579",
   "metadata": {},
   "outputs": [],
   "source": [
    "def up_yy(n=100):\n",
    "    x = torch.rand(n,1)\n",
    "    y = torch.ones_like(x)\n",
    "    cond = x**2/torch.e\n",
    "    return x.requires_grad_(True), y.requires_grad_(True), cond"
   ]
  },
  {
   "cell_type": "code",
   "execution_count": 6,
   "id": "967e18a6",
   "metadata": {},
   "outputs": [],
   "source": [
    "def down(n=100):\n",
    "    x = torch.rand(n,1)\n",
    "    y = torch.zeros_like(x)\n",
    "    cond = x**2\n",
    "    return x.requires_grad_(True), y.requires_grad_(True), cond\n",
    "    \n",
    "def up(n=100):\n",
    "    x = torch.rand(n,1)\n",
    "    y = torch.ones_like(x)\n",
    "    cond = x**2/torch.e\n",
    "    return x.requires_grad_(True), y.requires_grad_(True), cond    "
   ]
  },
  {
   "cell_type": "code",
   "execution_count": 7,
   "id": "b7638d14",
   "metadata": {},
   "outputs": [],
   "source": [
    "def left(n=100):\n",
    "    y = torch.randn(n,1)\n",
    "    x = torch.zeros_like(y)\n",
    "    cond = torch.zeros_like(x)\n",
    "    return x.requires_grad_(True), y.requires_grad_(True), cond \n",
    "\n",
    "\n",
    "def right(n=100):\n",
    "    y = torch.randn(n,1)\n",
    "    x = torch.ones_like(y)\n",
    "    cond = torch.exp(-y)\n",
    "    return x.requires_grad_(True), y.requires_grad_(True), cond     "
   ]
  },
  {
   "cell_type": "code",
   "execution_count": 8,
   "id": "a6f9c4f3",
   "metadata": {},
   "outputs": [],
   "source": [
    "class MLP (torch.nn.Module):\n",
    "    def __init__(self):\n",
    "        super().__init__()\n",
    "        self.net = torch.nn.Sequential(\n",
    "            torch.nn.Linear(2, 32),\n",
    "            torch.nn.Tanh(), \n",
    "            torch.nn.Linear(32, 32),\n",
    "            torch.nn.Tanh(), \n",
    "            torch.nn.Linear(32, 32),\n",
    "            torch.nn.Tanh(), \n",
    "            torch.nn.Linear(32, 32),\n",
    "            torch.nn.Tanh(), \n",
    "            torch.nn.Linear(32, 1)\n",
    "        )\n",
    "        \n",
    "    def forward(self, x):\n",
    "        return self.net(x)"
   ]
  },
  {
   "cell_type": "code",
   "execution_count": 9,
   "id": "b79ad64b",
   "metadata": {},
   "outputs": [],
   "source": [
    "loss = torch.nn.MSELoss()"
   ]
  },
  {
   "cell_type": "code",
   "execution_count": 13,
   "id": "07b289c9",
   "metadata": {},
   "outputs": [],
   "source": [
    "def gradients(u, x, order = 1): \n",
    "    if order == 1:\n",
    "        return torch.autograd.grad(u, x, grad_outputs=torch.ones_like(u), \n",
    "                                  create_graph=True,\n",
    "                                  only_inputs=True,)[0]\n",
    "    return gradients(gradients(u,x), x, order = order - 1)"
   ]
  },
  {
   "cell_type": "code",
   "execution_count": 14,
   "id": "9c3809d2",
   "metadata": {},
   "outputs": [],
   "source": [
    "def l_interior(u):\n",
    "    x, y, cond = interior()\n",
    "    uxy = u(torch.cat([x, y], dim=1))\n",
    "    return loss(gradients(uxy, x, 2) - gradients(uxy, y, 4), cond)\n",
    "\n",
    "\n",
    "def l_down_yy(u):\n",
    "    x, y, cond = down_yy()\n",
    "    uxy = u(torch.cat([x, y], dim=1))\n",
    "    return loss(gradients(uxy, y, 2), cond)\n",
    "\n",
    "\n",
    "def l_up_yy(u):\n",
    "    x, y, cond = up_yy()\n",
    "    uxy = u(torch.cat([x, y], dim=1))\n",
    "    return loss(gradients(uxy, y, 2), cond)\n",
    "\n",
    "\n",
    "def l_down(u):\n",
    "    x, y, cond = down()\n",
    "    uxy = u(torch.cat([x, y], dim=1))\n",
    "    return loss(uxy, cond)\n",
    "\n",
    "\n",
    "def l_up(u):\n",
    "    x, y, cond = up()\n",
    "    uxy = u(torch.cat([x, y], dim=1))\n",
    "    return loss(uxy, cond)\n",
    "\n",
    "\n",
    "def l_left(u):\n",
    "    x, y, cond = left()\n",
    "    uxy = u(torch.cat([x, y], dim=1))\n",
    "    return loss(uxy, cond)\n",
    "\n",
    "\n",
    "def l_right(u):\n",
    "    x, y, cond = right()\n",
    "    uxy = u(torch.cat([x, y], dim=1))\n",
    "    return loss(uxy, cond)"
   ]
  },
  {
   "cell_type": "code",
   "execution_count": 15,
   "id": "bedc80fc",
   "metadata": {},
   "outputs": [],
   "source": [
    "u = MLP()\n",
    "opt = torch.optim.Adam(params=u.parameters())\n",
    "for i in range(1000):\n",
    "    opt.zero_grad()\n",
    "    l = l_interior(u) \\\n",
    "        + l_up_yy(u) \\\n",
    "        + l_down_yy(u) \\\n",
    "        + l_up(u) \\\n",
    "        + l_down(u) \\\n",
    "        + l_left(u) \\\n",
    "        + l_right(u)\n",
    "    l.backward()\n",
    "    opt.step()"
   ]
  },
  {
   "cell_type": "code",
   "execution_count": null,
   "id": "2111a5ef",
   "metadata": {},
   "outputs": [],
   "source": [
    "# Inference\n",
    "xc = torch.linspace(0, 1, 100)\n",
    "xx, yy = torch.meshgrid(xc, xc)\n",
    "xx = xx.reshape(-1, 1)\n",
    "yy = yy.reshape(-1, 1)\n",
    "xy = torch.cat([xx, yy], dim=1)\n",
    "u_pred = u(xy)\n",
    "u_exact = xx * xx * torch.exp(-yy)\n",
    "print(\"Max abs error is: \", float(torch.max(torch.abs(u_pred - xx * xx * torch.exp(-yy)))))"
   ]
  },
  {
   "cell_type": "code",
   "execution_count": null,
   "id": "b312b3f8",
   "metadata": {},
   "outputs": [],
   "source": [
    "u_pred = u_pred.detach().numpy()\n",
    "u_exact= u_exact.detach().numpy()\n",
    "pred = u_pred.reshape(100, 100)\n",
    "exact = u_exact.reshape(100,100)"
   ]
  },
  {
   "cell_type": "code",
   "execution_count": null,
   "id": "2a97dde8",
   "metadata": {},
   "outputs": [],
   "source": [
    "figure = plt.figure(figsize=(8, 8))\n",
    "figure.add_subplot(1, 2, 1)\n",
    "plt.title('exact solution')\n",
    "plt.imshow(exact, cmap='seismic')\n",
    "\n",
    "figure.add_subplot(1, 2, 2)\n",
    "plt.title('PINN solution')\n",
    "plt.imshow(pred, cmap='seismic')"
   ]
  },
  {
   "cell_type": "code",
   "execution_count": null,
   "id": "821eed6b",
   "metadata": {},
   "outputs": [],
   "source": []
  }
 ],
 "metadata": {
  "kernelspec": {
   "display_name": "Python 3",
   "language": "python",
   "name": "python3"
  },
  "language_info": {
   "codemirror_mode": {
    "name": "ipython",
    "version": 3
   },
   "file_extension": ".py",
   "mimetype": "text/x-python",
   "name": "python",
   "nbconvert_exporter": "python",
   "pygments_lexer": "ipython3",
   "version": "3.8.8"
  }
 },
 "nbformat": 4,
 "nbformat_minor": 5
}
